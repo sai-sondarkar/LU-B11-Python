{
  "nbformat": 4,
  "nbformat_minor": 0,
  "metadata": {
    "colab": {
      "name": "Day4.ipynb",
      "provenance": []
    },
    "kernelspec": {
      "name": "python3",
      "display_name": "Python 3"
    }
  },
  "cells": [
    {
      "cell_type": "markdown",
      "metadata": {
        "id": "-LJuTfClVHlL"
      },
      "source": [
        "# Day 4 \n",
        "\n",
        "\n",
        "\n",
        "1.   Break, Pass ad continue \n",
        "2.   Functions\n",
        "3.   Github 10 Min\n",
        "\n"
      ]
    },
    {
      "cell_type": "code",
      "metadata": {
        "colab": {
          "base_uri": "https://localhost:8080/"
        },
        "id": "sJiIqvlYVEzu",
        "outputId": "bd34e662-6cc3-480a-9448-c1ae2f6216da"
      },
      "source": [
        "for item in range(100):\n",
        "  print(\"Hey we are going at a Speed of 50KMPH \", item)\n",
        "  if item >=30:\n",
        "    break"
      ],
      "execution_count": 6,
      "outputs": [
        {
          "output_type": "stream",
          "text": [
            "Hey we are going at a Speed of 50KMPH  0\n",
            "Hey we are going at a Speed of 50KMPH  1\n",
            "Hey we are going at a Speed of 50KMPH  2\n",
            "Hey we are going at a Speed of 50KMPH  3\n",
            "Hey we are going at a Speed of 50KMPH  4\n",
            "Hey we are going at a Speed of 50KMPH  5\n",
            "Hey we are going at a Speed of 50KMPH  6\n",
            "Hey we are going at a Speed of 50KMPH  7\n",
            "Hey we are going at a Speed of 50KMPH  8\n",
            "Hey we are going at a Speed of 50KMPH  9\n",
            "Hey we are going at a Speed of 50KMPH  10\n",
            "Hey we are going at a Speed of 50KMPH  11\n",
            "Hey we are going at a Speed of 50KMPH  12\n",
            "Hey we are going at a Speed of 50KMPH  13\n",
            "Hey we are going at a Speed of 50KMPH  14\n",
            "Hey we are going at a Speed of 50KMPH  15\n",
            "Hey we are going at a Speed of 50KMPH  16\n",
            "Hey we are going at a Speed of 50KMPH  17\n",
            "Hey we are going at a Speed of 50KMPH  18\n",
            "Hey we are going at a Speed of 50KMPH  19\n",
            "Hey we are going at a Speed of 50KMPH  20\n",
            "Hey we are going at a Speed of 50KMPH  21\n",
            "Hey we are going at a Speed of 50KMPH  22\n",
            "Hey we are going at a Speed of 50KMPH  23\n",
            "Hey we are going at a Speed of 50KMPH  24\n",
            "Hey we are going at a Speed of 50KMPH  25\n",
            "Hey we are going at a Speed of 50KMPH  26\n",
            "Hey we are going at a Speed of 50KMPH  27\n",
            "Hey we are going at a Speed of 50KMPH  28\n",
            "Hey we are going at a Speed of 50KMPH  29\n",
            "Hey we are going at a Speed of 50KMPH  30\n"
          ],
          "name": "stdout"
        }
      ]
    },
    {
      "cell_type": "code",
      "metadata": {
        "colab": {
          "base_uri": "https://localhost:8080/"
        },
        "id": "XcGavY8aW3Ba",
        "outputId": "08cbcfe2-09b1-4f11-e49a-9cac77f0333f"
      },
      "source": [
        "# Continue \n",
        "\n",
        "for meter in range(20):\n",
        "  if meter == 10:\n",
        "    continue\n",
        "  print(\"We will encounter a Speedbreak, we need to slow down and go pickup again\", meter)\n",
        "  \n"
      ],
      "execution_count": 8,
      "outputs": [
        {
          "output_type": "stream",
          "text": [
            "We will encounter a Speedbreak, we need to slow down and go pickup again 0\n",
            "We will encounter a Speedbreak, we need to slow down and go pickup again 1\n",
            "We will encounter a Speedbreak, we need to slow down and go pickup again 2\n",
            "We will encounter a Speedbreak, we need to slow down and go pickup again 3\n",
            "We will encounter a Speedbreak, we need to slow down and go pickup again 4\n",
            "We will encounter a Speedbreak, we need to slow down and go pickup again 5\n",
            "We will encounter a Speedbreak, we need to slow down and go pickup again 6\n",
            "We will encounter a Speedbreak, we need to slow down and go pickup again 7\n",
            "We will encounter a Speedbreak, we need to slow down and go pickup again 8\n",
            "We will encounter a Speedbreak, we need to slow down and go pickup again 9\n",
            "We will encounter a Speedbreak, we need to slow down and go pickup again 11\n",
            "We will encounter a Speedbreak, we need to slow down and go pickup again 12\n",
            "We will encounter a Speedbreak, we need to slow down and go pickup again 13\n",
            "We will encounter a Speedbreak, we need to slow down and go pickup again 14\n",
            "We will encounter a Speedbreak, we need to slow down and go pickup again 15\n",
            "We will encounter a Speedbreak, we need to slow down and go pickup again 16\n",
            "We will encounter a Speedbreak, we need to slow down and go pickup again 17\n",
            "We will encounter a Speedbreak, we need to slow down and go pickup again 18\n",
            "We will encounter a Speedbreak, we need to slow down and go pickup again 19\n"
          ],
          "name": "stdout"
        }
      ]
    },
    {
      "cell_type": "code",
      "metadata": {
        "id": "Msa-0S46YqqQ"
      },
      "source": [
        "# Pass \n",
        "\n",
        "for item in range(1,100):\n",
        "  pass"
      ],
      "execution_count": 10,
      "outputs": []
    },
    {
      "cell_type": "markdown",
      "metadata": {
        "id": "CeUnUAgaaWVQ"
      },
      "source": [
        "# Fuctions "
      ]
    },
    {
      "cell_type": "code",
      "metadata": {
        "colab": {
          "base_uri": "https://localhost:8080/"
        },
        "id": "utqsq8bNZ_T3",
        "outputId": "615bdb03-9c77-401a-9038-563358fb3c00"
      },
      "source": [
        "print(\"Hey \",\"vishal\" )\n",
        "print(\"Hey \", \"Nandkishor\")\n",
        "print(\"Hey \", \"chakri\")"
      ],
      "execution_count": 11,
      "outputs": [
        {
          "output_type": "stream",
          "text": [
            "Hey  vishal\n",
            "Hey  Nandkishor\n",
            "Hey  chakri\n"
          ],
          "name": "stdout"
        }
      ]
    },
    {
      "cell_type": "code",
      "metadata": {
        "id": "fiZzVtHYbZvk"
      },
      "source": [
        "lst = [ \"nandkishor\", \" Syed\", \" Vishal\", \" Prachi\"]"
      ],
      "execution_count": 12,
      "outputs": []
    },
    {
      "cell_type": "code",
      "metadata": {
        "id": "J7wc3KknbjPo"
      },
      "source": [
        "def greeting(name):\n",
        "    print(\"Hey \", name)"
      ],
      "execution_count": 15,
      "outputs": []
    },
    {
      "cell_type": "code",
      "metadata": {
        "colab": {
          "base_uri": "https://localhost:8080/"
        },
        "id": "fFQt5DA9b1FD",
        "outputId": "df451221-124e-487a-93fe-2281ab531044"
      },
      "source": [
        "for item in lst:\n",
        "  greeting(item)"
      ],
      "execution_count": 16,
      "outputs": [
        {
          "output_type": "stream",
          "text": [
            "Hey  nandkishor\n",
            "Hey   Syed\n",
            "Hey   Vishal\n",
            "Hey   Prachi\n"
          ],
          "name": "stdout"
        }
      ]
    },
    {
      "cell_type": "code",
      "metadata": {
        "id": "ByiFy4a3b97-"
      },
      "source": [
        "def tables(num):\n",
        "  for item in range(1,11):\n",
        "    print(num, \" X \", item, \" = \", num*item)"
      ],
      "execution_count": 18,
      "outputs": []
    },
    {
      "cell_type": "code",
      "metadata": {
        "colab": {
          "base_uri": "https://localhost:8080/"
        },
        "id": "EJ828lEmeLrN",
        "outputId": "483ea5d3-f008-499d-ec6c-4d88857fa235"
      },
      "source": [
        "tables(6)"
      ],
      "execution_count": 20,
      "outputs": [
        {
          "output_type": "stream",
          "text": [
            "6  X  1  =  6\n",
            "6  X  2  =  12\n",
            "6  X  3  =  18\n",
            "6  X  4  =  24\n",
            "6  X  5  =  30\n",
            "6  X  6  =  36\n",
            "6  X  7  =  42\n",
            "6  X  8  =  48\n",
            "6  X  9  =  54\n",
            "6  X  10  =  60\n"
          ],
          "name": "stdout"
        }
      ]
    },
    {
      "cell_type": "code",
      "metadata": {
        "id": "XHTYHzduePwp"
      },
      "source": [
        "# Get power Five of a number \n",
        "\n",
        "def powerSix(num):\n",
        "  return num**6"
      ],
      "execution_count": 23,
      "outputs": []
    },
    {
      "cell_type": "code",
      "metadata": {
        "colab": {
          "base_uri": "https://localhost:8080/"
        },
        "id": "HXq59QHcepAb",
        "outputId": "bb1cbb94-6003-48cd-bf74-0339cbfe7585"
      },
      "source": [
        "print(powerSix(4))"
      ],
      "execution_count": 24,
      "outputs": [
        {
          "output_type": "stream",
          "text": [
            "4096\n"
          ],
          "name": "stdout"
        }
      ]
    },
    {
      "cell_type": "markdown",
      "metadata": {
        "id": "IOUgeVUPfMXM"
      },
      "source": [
        "# GITHUB ? "
      ]
    },
    {
      "cell_type": "markdown",
      "metadata": {
        "id": "OjjUTAXBfPXJ"
      },
      "source": [
        "1. GIT\n",
        "2. Where we use it ?\n",
        "3. Why the hell GITHUB was Made ?\n",
        "\n",
        "4. How to use it ? "
      ]
    },
    {
      "cell_type": "code",
      "metadata": {
        "id": "sk0D_Se9etju"
      },
      "source": [
        ""
      ],
      "execution_count": null,
      "outputs": []
    }
  ]
}